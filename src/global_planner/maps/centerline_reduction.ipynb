{
 "cells": [
  {
   "cell_type": "code",
   "execution_count": 21,
   "metadata": {},
   "outputs": [
    {
     "name": "stdout",
     "output_type": "stream",
     "text": [
      "/sim_ws/src/global_planner/maps\n",
      "[[1449.  199.]\n",
      " [1448.  200.]\n",
      " [1447.  200.]\n",
      " ...\n",
      " [1452.  199.]\n",
      " [1451.  199.]\n",
      " [1450.  199.]]\n"
     ]
    }
   ],
   "source": [
    "import numpy as np\n",
    "import pandas as pd \n",
    "import cv2 \n",
    "import os \n",
    "\n",
    "# current working directory\n",
    "print(os.getcwd()) # /sim_ws/src/global_planner/maps\n",
    "\n",
    "# set map name\n",
    "map_name = 'HRL'\n",
    "\n",
    "# import centerline csv\n",
    "centerline_path = os.path.join(os.getcwd(), map_name, f'{map_name}_centerline.csv')\n",
    "centerline_csv = pd.read_csv(centerline_path)\n",
    "\n",
    "# convert to numpy array for better / easier calculation \n",
    "centerline = centerline_csv[['x', 'y']].to_numpy()\n",
    "print(centerline)"
   ]
  },
  {
   "cell_type": "code",
   "execution_count": 22,
   "metadata": {},
   "outputs": [
    {
     "name": "stdout",
     "output_type": "stream",
     "text": [
      "before: 3157 after: 158\n"
     ]
    }
   ],
   "source": [
    "# use only every 20th centerline point\n",
    "step_size = 20\n",
    "centerline_2 = centerline[::step_size]\n",
    "print('before:', centerline.shape[0], 'after:', centerline_2.shape[0])"
   ]
  },
  {
   "cell_type": "code",
   "execution_count": 23,
   "metadata": {},
   "outputs": [
    {
     "name": "stdout",
     "output_type": "stream",
     "text": [
      "158 134\n",
      "134 134\n",
      "convergation\n"
     ]
    }
   ],
   "source": [
    "\n",
    "import math \n",
    "\n",
    "threshold = 0.04\n",
    "\n",
    "# calculate the theta between centerline points\n",
    "def compute_centerline_with_theta(centerline_xy: np.ndarray):\n",
    "     \n",
    "    centerline_with_theta = np.zeros(shape=(centerline_xy.shape[0], 3))\n",
    "\n",
    "    for i in range(centerline_with_theta.shape[0]):\n",
    "        if i == centerline_with_theta.shape[0]-1:\n",
    "            x2 = centerline_xy[0][0]\n",
    "            y2 = centerline_xy[0][1]\n",
    "        else:\n",
    "            x2 = centerline_xy[i+1][0]\n",
    "            y2 = centerline_xy[i+1][1]\n",
    "        x1 = centerline_xy[i][0]\n",
    "        y1 = centerline_xy[i][1]\n",
    "        \n",
    "        theta = math.atan2(y2-y1, x2-x1)\n",
    "        centerline_with_theta[i] = np.array([x1,y1,theta])\n",
    "    return centerline_with_theta\n",
    "\n",
    "# keep only relevant centerline points \n",
    "def filter_centerline_points(centerline: np.ndarray):\n",
    "    indices_to_remove = []\n",
    "    for i in range(centerline.shape[0]):\n",
    "        if i == centerline.shape[0]-1:\n",
    "            theta2 = centerline[0][2]\n",
    "            theta0 = centerline[i-1][2]\n",
    "        elif i == 0:\n",
    "            theta2 = centerline[i+1][2]\n",
    "            theta0 = centerline[centerline.shape[0]-1][2]\n",
    "        else:\n",
    "            theta2 = centerline[i+1][2]\n",
    "            theta0 = centerline[i-1][2]\n",
    "        theta1 = centerline[i][2]\n",
    "        theta01_error = theta1-theta0\n",
    "        theta01_error = (theta01_error + math.pi) % (2 * math.pi)  - math.pi\n",
    "        theta12_error = theta2-theta1\n",
    "        theta12_error = (theta12_error + math.pi) % (2 * math.pi)  - math.pi\n",
    "\n",
    "        if abs(theta01_error) < threshold and abs(theta12_error < threshold):\n",
    "            indices_to_remove.append(i)\n",
    "    \n",
    "    filtered_centerline = np.delete(centerline, indices_to_remove, axis=0)\n",
    "\n",
    "    return filtered_centerline\n",
    "            \n",
    "\n",
    "# while loop until it converges (so no points are removed in an iteration)  \n",
    "centerline_3 = centerline_2.copy()\n",
    "\n",
    "while True:\n",
    "    centerline_4 = compute_centerline_with_theta(centerline_3)\n",
    "    centerline_4 = filter_centerline_points(centerline_4)\n",
    "    print(centerline_3.shape[0], centerline_4.shape[0])\n",
    "    if centerline_3.shape[0] == centerline_4.shape[0]:\n",
    "        print('convergation')\n",
    "        break\n",
    "    else:\n",
    "        centerline_3 = centerline_4.copy()\n",
    "        "
   ]
  },
  {
   "cell_type": "code",
   "execution_count": 24,
   "metadata": {},
   "outputs": [
    {
     "name": "stdout",
     "output_type": "stream",
     "text": [
      "starting pose: [1449.          199.            2.85013586]\n"
     ]
    }
   ],
   "source": [
    "# starting pose for map yaml \n",
    "print('starting pose:', centerline_4[0])\n",
    "# save points in csv file as filtered centerline \n",
    "centerline_final = centerline_4[:, :2] # remove theta column\n",
    "centerline_filtered = pd.DataFrame(centerline_final, columns=['x','y'])\n",
    "centerline_filtered_path = os.path.join(os.getcwd(), map_name, f'{map_name}_centerline_eff.csv')\n",
    "centerline_filtered.to_csv(centerline_filtered_path, index=False)"
   ]
  }
 ],
 "metadata": {
  "kernelspec": {
   "display_name": "Python 3",
   "language": "python",
   "name": "python3"
  },
  "language_info": {
   "codemirror_mode": {
    "name": "ipython",
    "version": 3
   },
   "file_extension": ".py",
   "mimetype": "text/x-python",
   "name": "python",
   "nbconvert_exporter": "python",
   "pygments_lexer": "ipython3",
   "version": "3.10.12"
  }
 },
 "nbformat": 4,
 "nbformat_minor": 2
}
